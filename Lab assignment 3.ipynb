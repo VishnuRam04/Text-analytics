{
 "cells": [
  {
   "cell_type": "markdown",
   "id": "78e90859",
   "metadata": {},
   "source": [
    "# Group members\n",
    "Vishnu Ram A/L Karthigesa Naidu SW01083727\n",
    "Thong Hao Hong SW01083725\n",
    "Jeevesh SW01083692"
   ]
  },
  {
   "cell_type": "code",
   "execution_count": 3,
   "id": "9a00f734",
   "metadata": {},
   "outputs": [],
   "source": [
    "\n",
    "\n",
    "# STEP 1: Import libraries\n",
    "import pandas as pd\n",
    "import gensim\n",
    "from gensim import corpora\n",
    "from gensim.models import CoherenceModel, LdaModel\n",
    "from nltk.corpus import stopwords\n",
    "from nltk.stem import WordNetLemmatizer\n",
    "from nltk.tokenize import word_tokenize\n",
    "import nltk\n",
    "import string\n",
    "\n",
    "\n"
   ]
  },
  {
   "cell_type": "code",
   "execution_count": 4,
   "id": "ecd14b4b",
   "metadata": {},
   "outputs": [
    {
     "name": "stdout",
     "output_type": "stream",
     "text": [
      "Coherence Score: 0.6281369823043936\n",
      "Topic 1: 0.011*\"x\" + 0.010*\"key\" + 0.007*\"use\" + 0.007*\"system\" + 0.007*\"file\" + 0.006*\"chip\" + 0.005*\"one\" + 0.005*\"encryption\" + 0.005*\"program\" + 0.004*\"would\"\n",
      "Topic 2: 0.007*\"year\" + 0.006*\"game\" + 0.006*\"would\" + 0.005*\"one\" + 0.005*\"team\" + 0.005*\"get\" + 0.004*\"like\" + 0.004*\"good\" + 0.004*\"new\" + 0.004*\"time\"\n",
      "Topic 3: 0.058*\"q\" + 0.048*\"max\" + 0.031*\"g\" + 0.030*\"r\" + 0.026*\"p\" + 0.026*\"db\" + 0.024*\"n\" + 0.023*\"x\" + 0.017*\"w\" + 0.017*\"k\"\n",
      "Topic 4: 0.009*\"people\" + 0.008*\"would\" + 0.007*\"one\" + 0.005*\"think\" + 0.005*\"government\" + 0.004*\"know\" + 0.004*\"say\" + 0.004*\"right\" + 0.004*\"u\" + 0.004*\"time\"\n"
     ]
    }
   ],
   "source": [
    "# STEP 2: Load dataset (only 'text' column)\n",
    "df = pd.read_csv('news_dataset.csv')\n",
    "df = df[['text']].dropna()\n",
    "\n",
    "# STEP 3: Preprocessing function\n",
    "def preprocess(text):\n",
    "    tokens = word_tokenize(text.lower())                          \n",
    "    tokens = [t for t in tokens if t.isalpha()]                  \n",
    "    stop_words = set(stopwords.words('english'))\n",
    "    tokens = [t for t in tokens if t not in stop_words]            \n",
    "    lemmatizer = WordNetLemmatizer()\n",
    "    tokens = [lemmatizer.lemmatize(t) for t in tokens]             \n",
    "    return tokens\n",
    "\n",
    "df['tokens'] = df['text'].apply(preprocess)\n",
    "\n",
    "# STEP 4: Create dictionary and corpus\n",
    "dictionary = corpora.Dictionary(df['tokens'])\n",
    "corpus = [dictionary.doc2bow(text) for text in df['tokens']]\n",
    "\n",
    "# STEP 5: LDA Model\n",
    "lda_model = LdaModel(corpus=corpus,\n",
    "                     id2word=dictionary,\n",
    "                     num_topics=4,\n",
    "                     random_state=42,\n",
    "                     passes=10,\n",
    "                     alpha='auto')\n",
    "\n",
    "coherence_model_lda = CoherenceModel(model=lda_model, texts=df['tokens'], dictionary=dictionary, coherence='c_v')\n",
    "coherence_score = coherence_model_lda.get_coherence()\n",
    "\n",
    "print(\"Coherence Score:\", coherence_score)\n",
    "\n",
    "topics = lda_model.print_topics(num_words=10)\n",
    "for idx, topic in topics:\n",
    "    print(f\"Topic {idx + 1}: {topic}\")"
   ]
  },
  {
   "cell_type": "code",
   "execution_count": null,
   "id": "53587e05",
   "metadata": {},
   "outputs": [],
   "source": []
  }
 ],
 "metadata": {
  "kernelspec": {
   "display_name": "Python 3 (ipykernel)",
   "language": "python",
   "name": "python3"
  },
  "language_info": {
   "codemirror_mode": {
    "name": "ipython",
    "version": 3
   },
   "file_extension": ".py",
   "mimetype": "text/x-python",
   "name": "python",
   "nbconvert_exporter": "python",
   "pygments_lexer": "ipython3",
   "version": "3.9.13"
  }
 },
 "nbformat": 4,
 "nbformat_minor": 5
}
